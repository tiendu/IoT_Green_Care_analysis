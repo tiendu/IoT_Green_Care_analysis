{
  "cells": [
    {
      "cell_type": "markdown",
      "metadata": {
        "id": "S999nFOLlEf-"
      },
      "source": [
        "# **Summary**\n",
        "\n",
        "The data collected is from a Smart Green Care System installed in an aquaponics system where plant and marine life is cohabitating. To ensure the best possible conditions inside the environment, several sensors have been installed that are gathering the data such as water and air temperature, light intensity, humidity etc. Data from these sensors is used to control which specific actuators need to be activated to maintain optimal conditions for the plants and fish.\n",
        "\n",
        "We will apply machine learning algorithms to the sensor data to predict the best way to activate the various actuators to ensure that the conditions in the aquaponics system can be maintained to be at their most optimal levels. With increasing urbanization, compact farming systems such as these aquaponics systems are imperative to cater to the rising demand in food production.\n"
      ]
    },
    {
      "cell_type": "code",
      "execution_count": 31,
      "metadata": {
        "colab": {
          "base_uri": "https://localhost:8080/"
        },
        "id": "m515B6lbk0qI",
        "outputId": "0fc360a7-946c-4167-e154-7f3f8bc6f4c6"
      },
      "outputs": [
        {
          "output_type": "stream",
          "name": "stdout",
          "text": [
            "mkdir: cannot create directory ‘data’: File exists\n"
          ]
        },
        {
          "output_type": "stream",
          "name": "stderr",
          "text": [
            "Downloading...\n",
            "From: https://drive.google.com/uc?export=download&id=10tuyl8CXxqBOdAUR5tCSW4UPCMtNELly\n",
            "To: /content/data/dataset.csv\n",
            "100%|██████████| 2.53M/2.53M [00:00<00:00, 153MB/s]\n"
          ]
        }
      ],
      "source": [
        "import gdown\n",
        "!mkdir data\n",
        "\"\"\"Dataset is from https://www.mdpi.com/2076-3417/12/19/9809\"\"\"\n",
        "urls = [\"https://drive.google.com/uc?export=download&id=10tuyl8CXxqBOdAUR5tCSW4UPCMtNELly\"]\n",
        "outputs = [\"dataset.csv\"]\n",
        "for url,output in zip(urls,outputs):\n",
        "  gdown.download(url, f'data/{output}', quiet=False)"
      ]
    },
    {
      "cell_type": "markdown",
      "metadata": {
        "id": "sFOuXyertyeM"
      },
      "source": [
        "# **Data Understanding**"
      ]
    },
    {
      "cell_type": "code",
      "execution_count": 32,
      "metadata": {
        "id": "BhrNMGwolmqk"
      },
      "outputs": [],
      "source": [
        "\"\"\"Loading the packages\"\"\"\n",
        "import pandas as pd\n",
        "import seaborn as sns\n",
        "import numpy as np\n",
        "import matplotlib.pyplot as plt\n",
        "import warnings\n",
        "warnings.filterwarnings('ignore')"
      ]
    },
    {
      "cell_type": "code",
      "execution_count": 33,
      "metadata": {
        "id": "_-rgtzvXmB4s"
      },
      "outputs": [],
      "source": [
        "df = pd.read_csv(\"data/dataset.csv\", header=0, index_col=0)"
      ]
    },
    {
      "cell_type": "markdown",
      "metadata": {
        "id": "3PYko4W0t_-h"
      },
      "source": [
        "Briefly checking the general information about the dataset."
      ]
    },
    {
      "cell_type": "code",
      "execution_count": 34,
      "metadata": {
        "colab": {
          "base_uri": "https://localhost:8080/"
        },
        "id": "3oraegV4mcnM",
        "outputId": "90b5a4ca-ce3a-42bc-8397-ed64a1462c66"
      },
      "outputs": [
        {
          "output_type": "stream",
          "name": "stdout",
          "text": [
            "<class 'pandas.core.frame.DataFrame'>\n",
            "Int64Index: 28493 entries, 0 to 28492\n",
            "Data columns (total 26 columns):\n",
            " #   Column            Non-Null Count  Dtype  \n",
            "---  ------            --------------  -----  \n",
            " 0   Temperature_A     28493 non-null  float64\n",
            " 1   Temperature_B     28493 non-null  float64\n",
            " 2   Humidity_A        28493 non-null  float64\n",
            " 3   Humidity_B        28493 non-null  float64\n",
            " 4   Photometric       28493 non-null  int64  \n",
            " 5   CO2               28493 non-null  int64  \n",
            " 6   Soil_temperature  28493 non-null  float64\n",
            " 7   Soil_humidity     28493 non-null  float64\n",
            " 8   Soil_EC           28493 non-null  float64\n",
            " 9   Soil_PH           28493 non-null  float64\n",
            " 10  Wind_speed        28493 non-null  float64\n",
            " 11  Wind_direction    28493 non-null  int64  \n",
            " 12  Radiometric       28493 non-null  int64  \n",
            " 13  Rainfall_detect   28493 non-null  int64  \n",
            " 14  Rainfall          28493 non-null  float64\n",
            " 15  actuator01        28493 non-null  int64  \n",
            " 16  actuator02        28493 non-null  int64  \n",
            " 17  actuator03        28493 non-null  int64  \n",
            " 18  actuator04        28493 non-null  int64  \n",
            " 19  actuator05        28493 non-null  int64  \n",
            " 20  actuator06        28493 non-null  int64  \n",
            " 21  actuator07        28493 non-null  int64  \n",
            " 22  actuator08        28493 non-null  int64  \n",
            " 23  actuator09        28493 non-null  int64  \n",
            " 24  actuator10        28493 non-null  int64  \n",
            " 25  actuator11        28493 non-null  int64  \n",
            "dtypes: float64(10), int64(16)\n",
            "memory usage: 5.9 MB\n",
            "None\n"
          ]
        }
      ],
      "source": [
        "print(df.info())"
      ]
    },
    {
      "cell_type": "markdown",
      "metadata": {
        "id": "Rp_ooUCymmmd"
      },
      "source": [
        "From above, we can see that we have 26 variables:\n",
        "*   15 predictor variables\n",
        "*   11 response variables\n",
        "\n",
        "We have integer and float variables. Let's see how many are integer and how many are float. But first, we need to create a list of predictor and response variables, respectively.\n",
        "\n"
      ]
    },
    {
      "cell_type": "code",
      "execution_count": 35,
      "metadata": {
        "colab": {
          "base_uri": "https://localhost:8080/"
        },
        "id": "fDxIgLhhrEYz",
        "outputId": "51785c4e-d3fe-43a7-9f45-3914ba8031f6"
      },
      "outputs": [
        {
          "output_type": "stream",
          "name": "stdout",
          "text": [
            "['Temperature_A', 'Temperature_B', 'Humidity_A', 'Humidity_B', 'Photometric', 'CO2', 'Soil_temperature', 'Soil_humidity', 'Soil_EC', 'Soil_PH', 'Wind_speed', 'Wind_direction', 'Radiometric', 'Rainfall_detect', 'Rainfall']\n",
            "['actuator01', 'actuator02', 'actuator03', 'actuator04', 'actuator05', 'actuator06', 'actuator07', 'actuator08', 'actuator09', 'actuator10', 'actuator11']\n"
          ]
        }
      ],
      "source": [
        "x_label = [i for i in df.columns[:15]]\n",
        "y_label = [i for i in df.columns[15:]]\n",
        "print(x_label)\n",
        "print(y_label)"
      ]
    },
    {
      "cell_type": "code",
      "execution_count": 36,
      "metadata": {
        "colab": {
          "base_uri": "https://localhost:8080/"
        },
        "id": "R03Z2DBUmF7s",
        "outputId": "0b1b212e-a2fe-43e0-8db6-1019c0e0c387"
      },
      "outputs": [
        {
          "output_type": "stream",
          "name": "stdout",
          "text": [
            "number of integer variables: 16\tinteger variables: ['Photometric', 'CO2', 'Wind_direction', 'Radiometric', 'Rainfall_detect', 'actuator01', 'actuator02', 'actuator03', 'actuator04', 'actuator05', 'actuator06', 'actuator07', 'actuator08', 'actuator09', 'actuator10', 'actuator11']\n",
            "number of float variables: 10\tfloat variables: ['Temperature_A', 'Temperature_B', 'Humidity_A', 'Humidity_B', 'Soil_temperature', 'Soil_humidity', 'Soil_EC', 'Soil_PH', 'Wind_speed', 'Rainfall']\n"
          ]
        }
      ],
      "source": [
        "int_var = []\n",
        "float_var = []\n",
        "for i in df.columns:\n",
        "  if df[i].dtype == np.int64:    \n",
        "    int_var.append(i)\n",
        "  elif df[i].dtype == np.float64:\n",
        "    float_var.append(i)\n",
        "print(f'number of integer variables: {len(int_var)}\\tinteger variables: {int_var}')\n",
        "print(f'number of float variables: {len(float_var)}\\tfloat variables: {float_var}')"
      ]
    },
    {
      "cell_type": "markdown",
      "metadata": {
        "id": "4x2tzYhhqxiF"
      },
      "source": [
        "So we have 16 integer variables and 10 float variables. What integer variables don't belong to the response variables?"
      ]
    },
    {
      "cell_type": "code",
      "execution_count": 37,
      "metadata": {
        "colab": {
          "base_uri": "https://localhost:8080/"
        },
        "id": "llkosPv6nf3F",
        "outputId": "13d81784-2e1f-4942-f074-eaa1bf714342"
      },
      "outputs": [
        {
          "output_type": "stream",
          "name": "stdout",
          "text": [
            "['CO2', 'Wind_direction', 'Rainfall_detect', 'Photometric', 'Radiometric']\n"
          ]
        }
      ],
      "source": [
        "x_int_var = list(set(int_var) - set(y_label))\n",
        "print(x_int_var)"
      ]
    },
    {
      "cell_type": "markdown",
      "metadata": {
        "id": "5s5od13hsWfh"
      },
      "source": [
        "We have 'Rainfall_detect', 'Photometric', 'Radiometric', 'CO2', 'Wind_direction' are the integer predictor variables. Let's see how they look like."
      ]
    },
    {
      "cell_type": "code",
      "execution_count": 38,
      "metadata": {
        "colab": {
          "base_uri": "https://localhost:8080/",
          "height": 300
        },
        "id": "r8_iUm_5sABi",
        "outputId": "45984134-9c6f-473a-c9d9-59ab786470fd"
      },
      "outputs": [
        {
          "output_type": "execute_result",
          "data": {
            "text/plain": [
              "                CO2  Wind_direction  Rainfall_detect   Photometric  \\\n",
              "count  28493.000000    28493.000000          28493.0  28493.000000   \n",
              "mean     454.088899      166.147685              0.0   6411.977889   \n",
              "std       35.413986      115.432005              0.0   9743.290448   \n",
              "min      376.000000        0.000000              0.0      0.000000   \n",
              "25%      428.000000       42.000000              0.0      0.000000   \n",
              "50%      449.000000      174.000000              0.0     23.000000   \n",
              "75%      474.000000      273.000000              0.0  11310.000000   \n",
              "max      602.000000      359.000000              0.0  65530.000000   \n",
              "\n",
              "        Radiometric  \n",
              "count  28493.000000  \n",
              "mean     199.343383  \n",
              "std      266.952227  \n",
              "min        0.000000  \n",
              "25%        0.000000  \n",
              "50%        0.000000  \n",
              "75%      353.000000  \n",
              "max      990.000000  "
            ],
            "text/html": [
              "\n",
              "  <div id=\"df-e0ab6c72-adad-4ecb-a567-5ce99eb3e3ed\">\n",
              "    <div class=\"colab-df-container\">\n",
              "      <div>\n",
              "<style scoped>\n",
              "    .dataframe tbody tr th:only-of-type {\n",
              "        vertical-align: middle;\n",
              "    }\n",
              "\n",
              "    .dataframe tbody tr th {\n",
              "        vertical-align: top;\n",
              "    }\n",
              "\n",
              "    .dataframe thead th {\n",
              "        text-align: right;\n",
              "    }\n",
              "</style>\n",
              "<table border=\"1\" class=\"dataframe\">\n",
              "  <thead>\n",
              "    <tr style=\"text-align: right;\">\n",
              "      <th></th>\n",
              "      <th>CO2</th>\n",
              "      <th>Wind_direction</th>\n",
              "      <th>Rainfall_detect</th>\n",
              "      <th>Photometric</th>\n",
              "      <th>Radiometric</th>\n",
              "    </tr>\n",
              "  </thead>\n",
              "  <tbody>\n",
              "    <tr>\n",
              "      <th>count</th>\n",
              "      <td>28493.000000</td>\n",
              "      <td>28493.000000</td>\n",
              "      <td>28493.0</td>\n",
              "      <td>28493.000000</td>\n",
              "      <td>28493.000000</td>\n",
              "    </tr>\n",
              "    <tr>\n",
              "      <th>mean</th>\n",
              "      <td>454.088899</td>\n",
              "      <td>166.147685</td>\n",
              "      <td>0.0</td>\n",
              "      <td>6411.977889</td>\n",
              "      <td>199.343383</td>\n",
              "    </tr>\n",
              "    <tr>\n",
              "      <th>std</th>\n",
              "      <td>35.413986</td>\n",
              "      <td>115.432005</td>\n",
              "      <td>0.0</td>\n",
              "      <td>9743.290448</td>\n",
              "      <td>266.952227</td>\n",
              "    </tr>\n",
              "    <tr>\n",
              "      <th>min</th>\n",
              "      <td>376.000000</td>\n",
              "      <td>0.000000</td>\n",
              "      <td>0.0</td>\n",
              "      <td>0.000000</td>\n",
              "      <td>0.000000</td>\n",
              "    </tr>\n",
              "    <tr>\n",
              "      <th>25%</th>\n",
              "      <td>428.000000</td>\n",
              "      <td>42.000000</td>\n",
              "      <td>0.0</td>\n",
              "      <td>0.000000</td>\n",
              "      <td>0.000000</td>\n",
              "    </tr>\n",
              "    <tr>\n",
              "      <th>50%</th>\n",
              "      <td>449.000000</td>\n",
              "      <td>174.000000</td>\n",
              "      <td>0.0</td>\n",
              "      <td>23.000000</td>\n",
              "      <td>0.000000</td>\n",
              "    </tr>\n",
              "    <tr>\n",
              "      <th>75%</th>\n",
              "      <td>474.000000</td>\n",
              "      <td>273.000000</td>\n",
              "      <td>0.0</td>\n",
              "      <td>11310.000000</td>\n",
              "      <td>353.000000</td>\n",
              "    </tr>\n",
              "    <tr>\n",
              "      <th>max</th>\n",
              "      <td>602.000000</td>\n",
              "      <td>359.000000</td>\n",
              "      <td>0.0</td>\n",
              "      <td>65530.000000</td>\n",
              "      <td>990.000000</td>\n",
              "    </tr>\n",
              "  </tbody>\n",
              "</table>\n",
              "</div>\n",
              "      <button class=\"colab-df-convert\" onclick=\"convertToInteractive('df-e0ab6c72-adad-4ecb-a567-5ce99eb3e3ed')\"\n",
              "              title=\"Convert this dataframe to an interactive table.\"\n",
              "              style=\"display:none;\">\n",
              "        \n",
              "  <svg xmlns=\"http://www.w3.org/2000/svg\" height=\"24px\"viewBox=\"0 0 24 24\"\n",
              "       width=\"24px\">\n",
              "    <path d=\"M0 0h24v24H0V0z\" fill=\"none\"/>\n",
              "    <path d=\"M18.56 5.44l.94 2.06.94-2.06 2.06-.94-2.06-.94-.94-2.06-.94 2.06-2.06.94zm-11 1L8.5 8.5l.94-2.06 2.06-.94-2.06-.94L8.5 2.5l-.94 2.06-2.06.94zm10 10l.94 2.06.94-2.06 2.06-.94-2.06-.94-.94-2.06-.94 2.06-2.06.94z\"/><path d=\"M17.41 7.96l-1.37-1.37c-.4-.4-.92-.59-1.43-.59-.52 0-1.04.2-1.43.59L10.3 9.45l-7.72 7.72c-.78.78-.78 2.05 0 2.83L4 21.41c.39.39.9.59 1.41.59.51 0 1.02-.2 1.41-.59l7.78-7.78 2.81-2.81c.8-.78.8-2.07 0-2.86zM5.41 20L4 18.59l7.72-7.72 1.47 1.35L5.41 20z\"/>\n",
              "  </svg>\n",
              "      </button>\n",
              "      \n",
              "  <style>\n",
              "    .colab-df-container {\n",
              "      display:flex;\n",
              "      flex-wrap:wrap;\n",
              "      gap: 12px;\n",
              "    }\n",
              "\n",
              "    .colab-df-convert {\n",
              "      background-color: #E8F0FE;\n",
              "      border: none;\n",
              "      border-radius: 50%;\n",
              "      cursor: pointer;\n",
              "      display: none;\n",
              "      fill: #1967D2;\n",
              "      height: 32px;\n",
              "      padding: 0 0 0 0;\n",
              "      width: 32px;\n",
              "    }\n",
              "\n",
              "    .colab-df-convert:hover {\n",
              "      background-color: #E2EBFA;\n",
              "      box-shadow: 0px 1px 2px rgba(60, 64, 67, 0.3), 0px 1px 3px 1px rgba(60, 64, 67, 0.15);\n",
              "      fill: #174EA6;\n",
              "    }\n",
              "\n",
              "    [theme=dark] .colab-df-convert {\n",
              "      background-color: #3B4455;\n",
              "      fill: #D2E3FC;\n",
              "    }\n",
              "\n",
              "    [theme=dark] .colab-df-convert:hover {\n",
              "      background-color: #434B5C;\n",
              "      box-shadow: 0px 1px 3px 1px rgba(0, 0, 0, 0.15);\n",
              "      filter: drop-shadow(0px 1px 2px rgba(0, 0, 0, 0.3));\n",
              "      fill: #FFFFFF;\n",
              "    }\n",
              "  </style>\n",
              "\n",
              "      <script>\n",
              "        const buttonEl =\n",
              "          document.querySelector('#df-e0ab6c72-adad-4ecb-a567-5ce99eb3e3ed button.colab-df-convert');\n",
              "        buttonEl.style.display =\n",
              "          google.colab.kernel.accessAllowed ? 'block' : 'none';\n",
              "\n",
              "        async function convertToInteractive(key) {\n",
              "          const element = document.querySelector('#df-e0ab6c72-adad-4ecb-a567-5ce99eb3e3ed');\n",
              "          const dataTable =\n",
              "            await google.colab.kernel.invokeFunction('convertToInteractive',\n",
              "                                                     [key], {});\n",
              "          if (!dataTable) return;\n",
              "\n",
              "          const docLinkHtml = 'Like what you see? Visit the ' +\n",
              "            '<a target=\"_blank\" href=https://colab.research.google.com/notebooks/data_table.ipynb>data table notebook</a>'\n",
              "            + ' to learn more about interactive tables.';\n",
              "          element.innerHTML = '';\n",
              "          dataTable['output_type'] = 'display_data';\n",
              "          await google.colab.output.renderOutput(dataTable, element);\n",
              "          const docLink = document.createElement('div');\n",
              "          docLink.innerHTML = docLinkHtml;\n",
              "          element.appendChild(docLink);\n",
              "        }\n",
              "      </script>\n",
              "    </div>\n",
              "  </div>\n",
              "  "
            ]
          },
          "metadata": {},
          "execution_count": 38
        }
      ],
      "source": [
        "df[x_int_var].describe()"
      ]
    },
    {
      "cell_type": "markdown",
      "metadata": {
        "id": "72UP_2F8s1lz"
      },
      "source": [
        "Rainfall_detect turns out be only 0. So it doesn't have any meaning here to include it in the modeling phase, we can exclude it."
      ]
    },
    {
      "cell_type": "code",
      "execution_count": 39,
      "metadata": {
        "id": "_Xr0YSuhsvUa"
      },
      "outputs": [],
      "source": [
        "df = df.drop(df[['Rainfall_detect']], axis=1)\n",
        "x_label.remove('Rainfall_detect')"
      ]
    },
    {
      "cell_type": "markdown",
      "metadata": {
        "id": "cKeAfhFTvHwt"
      },
      "source": [
        "We also want to see if there's any missing values in our dataset."
      ]
    },
    {
      "cell_type": "code",
      "execution_count": 40,
      "metadata": {
        "colab": {
          "base_uri": "https://localhost:8080/"
        },
        "id": "KMvnvY0_vG46",
        "outputId": "897bc3fe-2b42-423a-b128-d108a7238bf4"
      },
      "outputs": [
        {
          "output_type": "stream",
          "name": "stdout",
          "text": [
            "False\n",
            "False\n"
          ]
        }
      ],
      "source": [
        "print(df.isnull().values.any())\n",
        "print(df.isna().values.any())"
      ]
    },
    {
      "cell_type": "markdown",
      "metadata": {
        "id": "II1qn-VjxA5u"
      },
      "source": [
        "Or any variables that have weird values (outliers)."
      ]
    },
    {
      "cell_type": "code",
      "execution_count": 41,
      "metadata": {
        "colab": {
          "base_uri": "https://localhost:8080/"
        },
        "id": "FOJ0GSEUxAHi",
        "outputId": "a68ad663-144c-4cee-e14d-fd4b2910c6d8"
      },
      "outputs": [
        {
          "output_type": "stream",
          "name": "stdout",
          "text": [
            "Temperature_A\n",
            "28.0             291\n",
            "28.3             271\n",
            "21.8             266\n",
            "28.2             263\n",
            "27.9             261\n",
            "                ... \n",
            "12.0               1\n",
            "11.9               1\n",
            "11.7               1\n",
            "46.7               1\n",
            "50.6               1\n",
            "Length: 389, dtype: int64\n",
            "Temperature_B\n",
            "27.5             304\n",
            "28.0             287\n",
            "27.9             282\n",
            "27.7             274\n",
            "27.3             272\n",
            "                ... \n",
            "14.0               1\n",
            "12.6               1\n",
            "11.8               1\n",
            "11.3               1\n",
            "41.4               1\n",
            "Length: 313, dtype: int64\n",
            "Humidity_A\n",
            "79.6          110\n",
            "86.8          109\n",
            "77.7          109\n",
            "86.1          105\n",
            "83.7          104\n",
            "             ... \n",
            "31.0            1\n",
            "30.7            1\n",
            "30.6            1\n",
            "30.5            1\n",
            "93.8            1\n",
            "Length: 640, dtype: int64\n",
            "Humidity_B\n",
            "86.5          123\n",
            "92.3          122\n",
            "92.6          117\n",
            "92.5          115\n",
            "96.2          113\n",
            "             ... \n",
            "46.1            1\n",
            "46.2            1\n",
            "46.9            1\n",
            "49.4            1\n",
            "43.9            1\n",
            "Length: 539, dtype: int64\n",
            "Photometric\n",
            "0              14084\n",
            "11               107\n",
            "23                73\n",
            "35                66\n",
            "47                47\n",
            "               ...  \n",
            "30989              1\n",
            "31013              1\n",
            "31109              1\n",
            "31133              1\n",
            "65530              1\n",
            "Length: 3031, dtype: int64\n",
            "CO2\n",
            "444    416\n",
            "448    408\n",
            "441    407\n",
            "446    405\n",
            "443    390\n",
            "      ... \n",
            "376      1\n",
            "590      1\n",
            "589      1\n",
            "379      1\n",
            "602      1\n",
            "Length: 219, dtype: int64\n",
            "Soil_temperature\n",
            "26.6                376\n",
            "27.6                364\n",
            "26.7                330\n",
            "26.9                325\n",
            "26.5                312\n",
            "                   ... \n",
            "8.2                   3\n",
            "34.3                  2\n",
            "9.6                   2\n",
            "35.1                  2\n",
            "7.3                   1\n",
            "Length: 222, dtype: int64\n",
            "Soil_humidity\n",
            "47.0             886\n",
            "47.5             809\n",
            "46.5             803\n",
            "48.5             699\n",
            "49.4             631\n",
            "                ... \n",
            "60.6               1\n",
            "59.8               1\n",
            "58.7               1\n",
            "36.8               1\n",
            "62.6               1\n",
            "Length: 189, dtype: int64\n",
            "Soil_EC\n",
            "0.700      170\n",
            "0.702      152\n",
            "0.707      146\n",
            "0.695      145\n",
            "0.703      144\n",
            "          ... \n",
            "0.909        1\n",
            "0.913        1\n",
            "0.915        1\n",
            "0.916        1\n",
            "1.209        1\n",
            "Length: 736, dtype: int64\n",
            "Soil_PH\n",
            "6.6        4145\n",
            "6.5        3661\n",
            "7.9        1879\n",
            "6.4        1821\n",
            "7.7        1662\n",
            "6.8        1623\n",
            "6.7        1450\n",
            "7.8        1418\n",
            "8.1        1412\n",
            "8.0        1343\n",
            "7.6         979\n",
            "8.3         915\n",
            "8.4         875\n",
            "8.2         857\n",
            "8.7         615\n",
            "8.8         590\n",
            "8.5         560\n",
            "8.6         557\n",
            "8.9         432\n",
            "7.5         400\n",
            "6.9         390\n",
            "6.3         386\n",
            "7.4         144\n",
            "9.0         143\n",
            "7.0         138\n",
            "9.1          59\n",
            "7.1          17\n",
            "7.3          10\n",
            "7.2           7\n",
            "9.2           5\n",
            "dtype: int64\n",
            "Wind_speed\n",
            " 0.0          7507\n",
            " 0.9          2671\n",
            " 0.7          2411\n",
            " 1.1          2311\n",
            " 1.3          1911\n",
            " 1.5          1543\n",
            " 1.7          1204\n",
            " 1.9           997\n",
            " 2.1           860\n",
            " 2.3           746\n",
            " 2.5           700\n",
            " 2.7           660\n",
            " 2.9           589\n",
            " 3.1           482\n",
            " 3.3           470\n",
            " 3.5           434\n",
            " 3.7           356\n",
            " 3.9           313\n",
            " 4.3           286\n",
            " 4.1           268\n",
            " 4.5           236\n",
            " 4.7           194\n",
            " 5.1           172\n",
            " 4.9           156\n",
            " 5.3           132\n",
            " 5.5           119\n",
            " 5.9           111\n",
            " 5.7           103\n",
            " 6.1            77\n",
            " 6.5            73\n",
            " 6.3            70\n",
            " 6.7            45\n",
            " 6.9            44\n",
            " 7.5            38\n",
            " 7.1            37\n",
            " 7.3            35\n",
            " 8.1            18\n",
            " 8.3            15\n",
            " 7.7            15\n",
            " 7.9            11\n",
            " 8.9            11\n",
            " 8.7             8\n",
            " 9.7             7\n",
            " 8.5             7\n",
            " 9.3             7\n",
            " 9.1             5\n",
            " 10.8            4\n",
            " 9.5             4\n",
            " 10.3            3\n",
            "-9999.0          3\n",
            " 10.1            3\n",
            " 10.5            2\n",
            " 9.9             2\n",
            " 11.4            2\n",
            " 11.6            2\n",
            " 11.0            1\n",
            " 11.8            1\n",
            " 12.6            1\n",
            "dtype: int64\n",
            "Wind_direction\n",
            "25                352\n",
            "21                321\n",
            "28                321\n",
            "32                302\n",
            "17                291\n",
            "                 ... \n",
            "102                20\n",
            "2                  17\n",
            "117                17\n",
            "1                  14\n",
            "0                   5\n",
            "Length: 360, dtype: int64\n",
            "Radiometric\n",
            "0              14321\n",
            "2                241\n",
            "4                143\n",
            "3                113\n",
            "300               96\n",
            "               ...  \n",
            "905                1\n",
            "895                1\n",
            "917                1\n",
            "913                1\n",
            "990                1\n",
            "Length: 395, dtype: int64\n",
            "Rainfall\n",
            "0.0         28307\n",
            "0.2           120\n",
            "0.4            26\n",
            "1.0             7\n",
            "0.6             6\n",
            "0.8             6\n",
            "2.0             3\n",
            "1.2             2\n",
            "2.4             2\n",
            "3.4             2\n",
            "4.0             1\n",
            "7.0             1\n",
            "6.8             1\n",
            "6.0             1\n",
            "4.2             1\n",
            "2.2             1\n",
            "3.8             1\n",
            "2.6             1\n",
            "1.8             1\n",
            "1.6             1\n",
            "1.4             1\n",
            "9.2             1\n",
            "dtype: int64\n"
          ]
        }
      ],
      "source": [
        "for i in x_label:\n",
        "  print(df[[i]].value_counts())"
      ]
    },
    {
      "cell_type": "markdown",
      "metadata": {
        "id": "1BqvqFDLvN6i"
      },
      "source": [
        "Lucky that we don't have any missing values, but 'Wind_speed' has values of -9999.0.\n",
        "\n",
        "Now we want to see whether there's any variable(s) highly correlated to each other so we can further reduce the number of variables in the later phases."
      ]
    },
    {
      "cell_type": "code",
      "execution_count": 42,
      "metadata": {
        "id": "I9s8jGXItsNP"
      },
      "outputs": [],
      "source": [
        "cor_mat = df.corr().abs() # create a correlation matrix\n",
        "upp_tri = cor_mat.where(np.triu(np.ones(cor_mat.shape), k=1).astype(bool)) # create an upper triangle\n",
        "to_drop = [col for col in upp_tri.columns if any(upp_tri[col] > 0.95)] # take variables where correlation threshold is 0.95"
      ]
    },
    {
      "cell_type": "markdown",
      "source": [
        "Here's the visualization of the upper triangle. It's easy to see that 'Temperature_A' and 'Temperature_B' are highly correlated to each other, same for 'actuator01' and 'actuator04'."
      ],
      "metadata": {
        "id": "eXiu1cc9Ryq6"
      }
    },
    {
      "cell_type": "code",
      "source": [
        "fig, ax = plt.subplots(figsize=(16,16))\n",
        "sns.heatmap(upp_tri, annot=True, ax=ax)"
      ],
      "metadata": {
        "colab": {
          "base_uri": "https://localhost:8080/",
          "height": 1000
        },
        "id": "uC2jdPIbPdOh",
        "outputId": "03a69d59-fb27-4ea4-e37b-6817da7399a2"
      },
      "execution_count": 43,
      "outputs": [
        {
          "output_type": "execute_result",
          "data": {
            "text/plain": [
              "<matplotlib.axes._subplots.AxesSubplot at 0x7f8b419bb4c0>"
            ]
          },
          "metadata": {},
          "execution_count": 43
        },
        {
          "output_type": "display_data",
          "data": {
            "text/plain": [
              "<Figure size 1152x1152 with 2 Axes>"
            ],
            "image/png": "[encoded data removed]"
          },
          "metadata": {
            "needs_background": "light"
          }
        }
      ]
    },
    {
      "cell_type": "code",
      "execution_count": 44,
      "metadata": {
        "colab": {
          "base_uri": "https://localhost:8080/"
        },
        "id": "jOCIzUA1wg-X",
        "outputId": "6e5a46be-410d-4792-b2a1-2492e3f33e23"
      },
      "outputs": [
        {
          "output_type": "stream",
          "name": "stdout",
          "text": [
            "['Temperature_B', 'Humidity_B', 'actuator03', 'actuator04', 'actuator06', 'actuator07']\n"
          ]
        }
      ],
      "source": [
        "print(to_drop)\n",
        "x_label = list(set(x_label) - set(to_drop))\n",
        "y_label = list(set(y_label) - set(to_drop))"
      ]
    },
    {
      "cell_type": "markdown",
      "metadata": {
        "id": "0RdXsAQQwvmi"
      },
      "source": [
        "'Temperature_B', 'Humidity_B', 'actuator03', 'actuator04', 'actuator06', 'actuator07' are variables that are highly correlated (more than 0.95). We will drop these from our dataset too."
      ]
    },
    {
      "cell_type": "code",
      "execution_count": 45,
      "metadata": {
        "id": "xHaJKDMcwjio"
      },
      "outputs": [],
      "source": [
        "df = df.drop(df[to_drop], axis=1)"
      ]
    },
    {
      "cell_type": "markdown",
      "metadata": {
        "id": "4CJwKcSK-5R8"
      },
      "source": [
        "Now we visualize to check the distribution of the variables and so on."
      ]
    },
    {
      "cell_type": "code",
      "source": [
        "pd.plotting.scatter_matrix(df, alpha = 0.3, figsize = (40,40), diagonal = 'kde');"
      ],
      "metadata": {
        "id": "NzNY7d49-3NN"
      },
      "execution_count": null,
      "outputs": []
    },
    {
      "cell_type": "code",
      "source": [
        "pd.options.plotting.backend = \"plotly\""
      ],
      "metadata": {
        "id": "-r9WMcZTCsow"
      },
      "execution_count": null,
      "outputs": []
    },
    {
      "cell_type": "code",
      "source": [
        "df[x_label].plot(kind='box')"
      ],
      "metadata": {
        "id": "DmIwqvqbBBoU"
      },
      "execution_count": null,
      "outputs": []
    },
    {
      "cell_type": "code",
      "execution_count": null,
      "metadata": {
        "id": "hUV8aATQ-4mz"
      },
      "outputs": [],
      "source": [
        "from scipy import stats\n",
        "\n",
        "fig, axs = plt.subplots(len(x_label), 2, figsize=(8, 32))\n",
        "for i, v in enumerate(x_label):\n",
        "  sns.histplot(df[v], ax=axs[i, 0], kde=True)\n",
        "  sns.rugplot(df[v], ax=axs[i, 0])\n",
        "  stats.probplot(df[v], dist='norm', plot=axs[i, 1])\n",
        "fig.tight_layout(pad=1.0)"
      ]
    },
    {
      "cell_type": "markdown",
      "metadata": {
        "id": "rSeKvptoCssZ"
      },
      "source": [
        "Some look normal, some don't. Especially 'Wind_speed', as mentioned, it has values of -9999.0. Now we take a look at our response variables."
      ]
    },
    {
      "cell_type": "code",
      "source": [
        "for i in y_label:\n",
        "  print(df[[i]].value_counts())"
      ],
      "metadata": {
        "id": "6gG7-YaCjS_P"
      },
      "execution_count": null,
      "outputs": []
    },
    {
      "cell_type": "code",
      "execution_count": null,
      "metadata": {
        "id": "RTcBq3GuDi9a"
      },
      "outputs": [],
      "source": [
        "fig, axs = plt.subplots(len(y_label), 2, figsize=(8, 32))\n",
        "\n",
        "for i, v in enumerate(y_label):\n",
        "  sns.countplot(x=df[v], ax=axs[i, 0]) # this may not correspond with the pie chart due to some malfunctions\n",
        "  axs[i, 1].pie(df[v].value_counts(normalize=True), autopct='%1.0f%%') \n",
        "fig.tight_layout(pad=1.0)"
      ]
    },
    {
      "cell_type": "markdown",
      "metadata": {
        "id": "KKakovHcIANK"
      },
      "source": [
        "'actuator01', 'actuator02', 'actuator10', 'actuator11' are extremely disproportional."
      ]
    },
    {
      "cell_type": "markdown",
      "metadata": {
        "id": "0a64KB7sy57a"
      },
      "source": [
        "# **Data preparation**"
      ]
    },
    {
      "cell_type": "markdown",
      "metadata": {
        "id": "OiOrY6oezEpJ"
      },
      "source": [
        "'Wind_speed' is the variable that has an outlier of -9999.0. Now we move onto finding outliers. In this, we incorporated a method to find multivariate outliers. Instead of relying on only one variable at a time (univariate), we look to find outliers that associate with multiple variables (multivariate)."
      ]
    },
    {
      "cell_type": "code",
      "execution_count": null,
      "metadata": {
        "id": "XqrNZ1VD338H"
      },
      "outputs": [],
      "source": [
        "w_outliers = df[x_label].copy().to_numpy() # convert df to numpy array to avoid error\n",
        "covar = np.cov(w_outliers, rowvar=False) # calculate covariance\n",
        "covar_pm1 = np.linalg.matrix_power(covar, -1) # covariance to the power of -1\n",
        "centroid = np.mean(w_outliers, axis=0) # find the centroid\n",
        "dist = [] # take the Mahalanobis distance\n",
        "for i, v in enumerate(w_outliers):\n",
        "  p1, p2 = v, centroid\n",
        "  d = (p1-p2).T.dot(covar_pm1).dot(p1-p2) # formula for Mahalanobis distance\n",
        "  dist.append(d)\n",
        "dist = np.array(dist)\n",
        "from scipy.stats import chi2\n",
        "cutoff = chi2.ppf(0.95, w_outliers.shape[1]) # get the cutoff using Chi-Square\n",
        "outlier_index = np.where(dist > cutoff)\n",
        "wo_outliers = pd.DataFrame(np.delete(w_outliers, list(outlier_index[0]), axis=0), columns=x_label)"
      ]
    },
    {
      "cell_type": "markdown",
      "metadata": {
        "id": "aFqsN1LS6q2N"
      },
      "source": [
        "Let's see the distribution after removing the outliers."
      ]
    },
    {
      "cell_type": "code",
      "execution_count": null,
      "metadata": {
        "id": "BLlbkplG6e-a"
      },
      "outputs": [],
      "source": [
        "fig, axs = plt.subplots(len(x_label), 4, figsize=(12, 32))\n",
        "for i, v in enumerate(x_label):\n",
        "  sns.histplot(df[v], ax=axs[i, 0], kde=True).set(title='with_outliers')\n",
        "  sns.histplot(wo_outliers[v], ax=axs[i, 1], kde=True).set(title='no_outliers')\n",
        "  stats.probplot(df[v], dist='norm', plot=axs[i, 2])\n",
        "  axs[i, 2].set_title('with_outliers')\n",
        "  stats.probplot(wo_outliers[v], dist='norm', plot=axs[i, 3])\n",
        "  axs[i, 3].set_title('no_outliers')\n",
        "fig.tight_layout(pad=1.0)"
      ]
    },
    {
      "cell_type": "markdown",
      "metadata": {
        "id": "_mQ0z7n1_Rfv"
      },
      "source": [
        "We can see that it does improve the distribution a bit here with the outliers being removed, especially in the case of 'Wind_speed'."
      ]
    },
    {
      "cell_type": "markdown",
      "metadata": {
        "id": "Iq6y7EC5huCL"
      },
      "source": [
        "Now we try the Robust Scaling and Power Transformation on the training set."
      ]
    },
    {
      "cell_type": "code",
      "execution_count": null,
      "metadata": {
        "id": "yI5KsO2iFxkK"
      },
      "outputs": [],
      "source": [
        "from sklearn.preprocessing import RobustScaler\n",
        "from sklearn.preprocessing import PowerTransformer\n",
        "r_scaler = RobustScaler()\n",
        "yj_transformer = PowerTransformer(method='yeo-johnson', standardize=False)\n",
        "for i in x_label:\n",
        "  wo_outliers['trans_' + i] = r_scaler.fit_transform(wo_outliers[[i]])\n",
        "  wo_outliers['trans_' + i] = yj_transformer.fit_transform(wo_outliers[[i]])"
      ]
    },
    {
      "cell_type": "code",
      "execution_count": null,
      "metadata": {
        "id": "adGsp5jFGVer"
      },
      "outputs": [],
      "source": [
        "fig, axs = plt.subplots(len(x_label), 4, figsize=(12, 32))\n",
        "for i, v in enumerate(x_label):\n",
        "  sns.histplot(wo_outliers[v], ax=axs[i, 0], kde=True).set(title='original')\n",
        "  sns.histplot(wo_outliers['trans_' + v], ax=axs[i, 1], kde=True).set(title='transformed')\n",
        "  stats.probplot(wo_outliers[v], dist='norm', plot=axs[i, 2])\n",
        "  axs[i, 2].set_title('original')\n",
        "  stats.probplot(wo_outliers['trans_' + v], dist='norm', plot=axs[i, 3])\n",
        "  axs[i, 3].set_title('transformed')\n",
        "fig.tight_layout(pad=1.0)"
      ]
    },
    {
      "cell_type": "markdown",
      "metadata": {
        "id": "fsadSsRfKz-q"
      },
      "source": [
        "Robust Scaling is done to faciliate the modelling speed. Yeo-Johnson transformation indeed helps improve the distribution a bit in some variables. But for some like 'Photometric', 'Radiometric', 'Rainfall', they still look bad."
      ]
    },
    {
      "cell_type": "markdown",
      "metadata": {
        "id": "F2yDWoxfOY5O"
      },
      "source": [
        "# **Modelling and Evaluation** "
      ]
    },
    {
      "cell_type": "markdown",
      "metadata": {
        "id": "Qyp5pz8POOqd"
      },
      "source": [
        "Rewrite the multivariate outlier method detection into a function."
      ]
    },
    {
      "cell_type": "code",
      "execution_count": null,
      "metadata": {
        "id": "7_Stnky6Ndrb"
      },
      "outputs": [],
      "source": [
        "def multivariate_outlier_detect(x, y, x_label, y_label):\n",
        "  import numpy as np\n",
        "  x, y = x.to_numpy(), y.to_numpy()\n",
        "  covar = np.cov(x, rowvar=False) # calculate covariance\n",
        "  covar_pm1 = np.linalg.matrix_power(covar, -1) # covariance to the power of -1\n",
        "  centroid = np.mean(x, axis=0) # find the centroid\n",
        "  dist = [] # take the Mahalanobis distance\n",
        "  for i, v in enumerate(x):\n",
        "    p1, p2 = v, centroid\n",
        "    d = (p1-p2).T.dot(covar_pm1).dot(p1-p2) # formula for Mahalanobis distance\n",
        "    dist.append(d)\n",
        "  dist = np.array(dist)\n",
        "  from scipy.stats import chi2\n",
        "  cutoff = chi2.ppf(0.95, x.shape[1]) # get the cutoff using Chi-Square\n",
        "  outlier_index = np.where(dist > cutoff)\n",
        "  x = pd.DataFrame(np.delete(x, list(outlier_index[0]), axis=0), columns=x_label)\n",
        "  y = pd.DataFrame(np.delete(y, list(outlier_index[0]), axis=0), columns=y_label)\n",
        "  return x, y"
      ]
    },
    {
      "cell_type": "markdown",
      "metadata": {
        "id": "dYBbKp2wh_Bk"
      },
      "source": [
        "We will use three models and five evaluation metrics.\n",
        "\n",
        "Three models include:\n",
        "\n",
        "* Logistic Regression\n",
        "* Random Forest\n",
        "* Gradient Boosting\n",
        "\n",
        "Five evaluation metrics include:\n",
        "* Accuracy\n",
        "* Precision\n",
        "* Recall\n",
        "* ROC/AUC score\n",
        "* Confusion matrix\n",
        "\n"
      ]
    },
    {
      "cell_type": "code",
      "execution_count": null,
      "metadata": {
        "id": "_-7lLrRxvY3m"
      },
      "outputs": [],
      "source": [
        "from sklearn.model_selection import cross_val_score\n",
        "from sklearn.linear_model import LogisticRegression\n",
        "from sklearn.ensemble import RandomForestClassifier\n",
        "from sklearn.ensemble import HistGradientBoostingClassifier\n",
        "from sklearn.preprocessing import RobustScaler\n",
        "from sklearn.preprocessing import PowerTransformer\n",
        "from sklearn.model_selection import train_test_split\n",
        "from sklearn.model_selection import StratifiedKFold\n",
        "\n",
        "models = [\n",
        "  LogisticRegression(solver='saga', max_iter=1000, n_jobs=-1),\n",
        "  RandomForestClassifier(n_estimators=1000, max_features=None, random_state=1, bootstrap=True, oob_score=True, n_jobs=-1),\n",
        "  HistGradientBoostingClassifier(learning_rate=0.01, max_iter=1000, max_leaf_nodes=100)\n",
        "]\n",
        "\n",
        "names = [\"Logistic Regression\", \"Random Forest\", \"Gradient Boosting\"]"
      ]
    },
    {
      "cell_type": "code",
      "execution_count": null,
      "metadata": {
        "id": "RgrgJd2oxkvI"
      },
      "outputs": [],
      "source": [
        "from sklearn import metrics\n",
        "\n",
        "def scores(y_true, y_pred):\n",
        "  return (metrics.accuracy_score(y_true, y_pred), \n",
        "          metrics.precision_score(y_true, y_pred), \n",
        "          metrics.recall_score(y_true, y_pred),\n",
        "          metrics.roc_auc_score(y_true, y_pred),\n",
        "          metrics.confusion_matrix(y_true, y_pred))"
      ]
    },
    {
      "cell_type": "code",
      "execution_count": null,
      "metadata": {
        "id": "MRtGrPdMw9nQ"
      },
      "outputs": [],
      "source": [
        "cf_dict = {}\n",
        "for i, v in enumerate(y_label):\n",
        "  cv = StratifiedKFold(n_splits=5, random_state=i, shuffle=True)\n",
        "  print(v)\n",
        "  cf_dict[v] = {}\n",
        "  for model, name in zip(models, names):\n",
        "    acc_lst, prec_lst, rec_lst, ra_lst, cf_lst = [], [], [], [], []\n",
        "    for train_index, test_index in cv.split(df[x_label], df[[v]]):\n",
        "      X_train, X_test, y_train, y_test = df[x_label].iloc[train_index], df[x_label].iloc[test_index], df[[v]].iloc[train_index], df[[v]].iloc[test_index]\n",
        "      X_train, y_train = multivariate_outlier_detect(X_train, y_train, x_label, [v])\n",
        "      r_scaler = RobustScaler()\n",
        "      yj_transformer = PowerTransformer(method='yeo-johnson', standardize=False)\n",
        "      for j in x_label:\n",
        "        X_train[j] = r_scaler.fit_transform(X_train[[j]])\n",
        "        X_train[j] = yj_transformer.fit_transform(X_train[[j]])\n",
        "      model.fit(X_train, y_train.values.ravel())\n",
        "      y_pred = model.predict(X_test)\n",
        "      acc, prec, rec, ra, cf = scores(y_test, y_pred)\n",
        "      acc_lst.append(acc)\n",
        "      prec_lst.append(prec)\n",
        "      rec_lst.append(rec)\n",
        "      ra_lst.append(ra)\n",
        "      cf_lst.append(cf)\n",
        "    print(f'{name:<20}\\taccuracy: {np.mean(acc_lst):.2f}, precision: {np.mean(prec_lst):.2f}, recall: {np.mean(rec_lst):.2f}, roc_auc_score: {np.mean(ra_lst):.2f}')\n",
        "    cf_dict[v][name] = np.mean(cf_lst, axis=0)"
      ]
    },
    {
      "cell_type": "code",
      "execution_count": null,
      "metadata": {
        "id": "yADecr4CbzND"
      },
      "outputs": [],
      "source": [
        "fig, axs = plt.subplots(len(y_label), len(names), figsize=(12, 24))\n",
        "\n",
        "for m, i in enumerate(cf_dict.keys()):\n",
        "  for n, j in enumerate(cf_dict[i].keys()):\n",
        "    cf_matrix = cf_dict[i][j]\n",
        "    group_names = ['TN', 'FP', 'FN', 'TP']\n",
        "    group_counts = [\"{0:0.0f}\".format(value) for value in cf_matrix.flatten()]\n",
        "    group_percentages = [\"{0:.2%}\".format(value) for value in cf_matrix.flatten()/np.sum(cf_matrix)]\n",
        "    labels = [f\"{v1}\\n{v2}\\n{v3}\" for v1, v2, v3 in zip(group_names, group_counts, group_percentages)]\n",
        "    labels = np.asarray(labels).reshape(2,2)\n",
        "    sns.heatmap(cf_matrix, annot=labels, fmt='', cmap='Blues', ax=axs[m, n]).set(title=i + ' ' + j)\n",
        "fig.tight_layout(pad=2.0)"
      ]
    },
    {
      "cell_type": "markdown",
      "source": [
        "Some models perform better on predicting some response variables while others don't. As we can see from the above, it seems that all models perform badly on predicting the state of 'actuator10', 'actuator11' and it's not easily explained."
      ],
      "metadata": {
        "id": "z95IXbATFEY4"
      }
    }
  ],
  "metadata": {
    "colab": {
      "provenance": []
    },
    "kernelspec": {
      "display_name": "Python 3",
      "name": "python3"
    },
    "language_info": {
      "name": "python"
    }
  },
  "nbformat": 4,
  "nbformat_minor": 0
}